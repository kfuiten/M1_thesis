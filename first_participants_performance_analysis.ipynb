{
 "cells": [
  {
   "attachments": {},
   "cell_type": "markdown",
   "metadata": {},
   "source": [
    "Kassandra's first 20 participants - data cleaning & a bit of exploratory analysis"
   ]
  },
  {
   "attachments": {},
   "cell_type": "markdown",
   "metadata": {},
   "source": [
    "1. Import the data and and create a more readable csv file. "
   ]
  },
  {
   "cell_type": "code",
   "execution_count": 1,
   "metadata": {},
   "outputs": [
    {
     "name": "stdout",
     "output_type": "stream",
     "text": [
      "    name random  block_num  block_exp_time  block_load  block_settings  \\\n",
      "16    18  False          0        416841.0         5.0              30   \n",
      "17    18  False          0        416841.0         5.0              30   \n",
      "18    18  False          0        416841.0         5.0              30   \n",
      "19    18  False          0        416841.0         5.0              30   \n",
      "20    18  False          0        416841.0         5.0              30   \n",
      "\n",
      "    trial_num  trial_exp_time pres_letter  letter_pres_exp_time  ...  \\\n",
      "16        1.0        417136.0           Z              417161.0  ...   \n",
      "17        1.0        424201.0           L              424244.0  ...   \n",
      "18        1.0        431281.0           H              431311.0  ...   \n",
      "19        1.0        438343.0           B              438394.0  ...   \n",
      "20        1.0        445435.0           N              445461.0  ...   \n",
      "\n",
      "   letter_answ_exp_time  letter_react_time  letter_memory_time  pres_eq  \\\n",
      "16             454149.0             1621.0             37017.0    5-1=4   \n",
      "17             454789.0             2261.0             30568.0   6+8=15   \n",
      "18             455829.0             3301.0             24550.0   3+7=10   \n",
      "19             456373.0             3845.0             18017.0    9-5=3   \n",
      "20             456564.0             4036.0             11133.0   7+7=13   \n",
      "\n",
      "   eq_pres_exp_time  eq_truthvalue truth_given truth_react_time  \\\n",
      "16         418177.0              y           y           3364.0   \n",
      "17         425261.0              n           n           2632.0   \n",
      "18         432328.0              y           y            972.0   \n",
      "19         439411.0              n           n           1378.0   \n",
      "20         446478.0              n           n           1223.0   \n",
      "\n",
      "    letters_correct  equations_correct  \n",
      "16                1                  1  \n",
      "17                1                  1  \n",
      "18                1                  1  \n",
      "19                1                  1  \n",
      "20                1                  1  \n",
      "\n",
      "[5 rows x 21 columns]\n"
     ]
    }
   ],
   "source": [
    "#Import packages and set path \n",
    "import pandas as pd \n",
    "import glob \n",
    "import matplotlib.pyplot as plt\n",
    "path = \"/Users/kassandrafuiten/\"\n",
    "\n",
    "#Combine all participant task performance csvs in to single data frame \n",
    "combined_data = pd.DataFrame()\n",
    "csv_files = glob.glob(path + \"task_performance_csv\" + \"/*.csv\")\n",
    "for file in csv_files:\n",
    "    df = pd.read_csv(file)\n",
    "    combined_data = pd.concat([combined_data, df])\n",
    "combined_data = combined_data.drop(['Unnamed: 0'], axis=1) #delete junk column \n",
    "combined_data.dropna(subset=['name'], inplace=True) #delete extra rows at the end of CSVs \n",
    "combined_data = combined_data[~combined_data.apply(lambda x: x.astype(str).str.contains('training').any(), axis=1)] #delete training trials \n",
    "combined_data['name'] = combined_data['name'].astype(int) \n",
    "combined_data['block_settings'] = combined_data['block_settings'].astype(int) \n",
    "combined_data['block_num'] = combined_data['block_num'].astype(int) \n",
    "\n",
    "#Add columns that indicate if participants letter or equation answers were correct\n",
    "letters_true = combined_data['pres_letter'] == combined_data['answ_letter']\n",
    "combined_data['letters_correct'] = letters_true \n",
    "equations_true = combined_data['eq_truthvalue'] == combined_data['truth_given']\n",
    "combined_data['equations_correct'] = equations_true\n",
    "combined_data['letters_correct'] = combined_data['letters_correct'].astype(int) \n",
    "combined_data['equations_correct'] = combined_data['equations_correct'].astype(int)\n",
    "\n",
    "#Save cleaned csv \n",
    "combined_data.to_csv(path +\"first_participants_performance\"+\".csv\")\n",
    "\n",
    "#Check dataframe \n",
    "print(combined_data.head())"
   ]
  },
  {
   "attachments": {},
   "cell_type": "markdown",
   "metadata": {},
   "source": [
    "2. Calculate each participants' overall letter and equation score. "
   ]
  },
  {
   "cell_type": "code",
   "execution_count": 2,
   "metadata": {},
   "outputs": [],
   "source": [
    "#Create dictionary \n",
    "by_participant = combined_data.groupby('name')\n",
    "participant_dfs = {}\n",
    "for i, name in by_participant: \n",
    "    participant_dfs[i] = name\n",
    "\n",
    "#Determine letter scores for each participant \n",
    "participant_rows = combined_data['name'].value_counts()[1] #determine how many rows per participant \n",
    "let_percentage_correct = []\n",
    "for name in participant_dfs: \n",
    "    let_correct = participant_dfs[name][\"letters_correct\"].value_counts()[1]\n",
    "    lper_correct = let_correct / participant_rows \n",
    "    let_percentage_correct.append(lper_correct)\n",
    "\n",
    "#Determine equation scores for each participant \n",
    "eq_percentage_correct = []\n",
    "for name in participant_dfs: \n",
    "    eq_correct = participant_dfs[name][\"equations_correct\"].value_counts()[1]\n",
    "    eper_correct = eq_correct / participant_rows \n",
    "    eq_percentage_correct.append(eper_correct)"
   ]
  },
  {
   "attachments": {},
   "cell_type": "markdown",
   "metadata": {},
   "source": [
    "3. Graph scores by participant. "
   ]
  },
  {
   "cell_type": "code",
   "execution_count": 3,
   "metadata": {},
   "outputs": [
    {
     "data": {
      "image/png": "[encoded data removed]",
      "text/plain": [
       "<Figure size 432x288 with 1 Axes>"
      ]
     },
     "metadata": {
      "needs_background": "light"
     },
     "output_type": "display_data"
    }
   ],
   "source": [
    "plt.plot(let_percentage_correct, label=\"Letter Score\", marker='o', linestyle='-', color='c')\n",
    "plt.plot(eq_percentage_correct, label=\"Equation Score\", marker='o', linestyle='-', color='m')\n",
    "plt.xlabel(\"Participant\")\n",
    "plt.ylabel(\"Percentage Correct\")\n",
    "plt.title(\"Percentage Correct by Participant\")\n",
    "x_ticks = [0, 1, 2, 3, 4, 5, 6, 7, 8, 9, 10, 11, 12, 13, 14, 15, 16, 17, 18, 19]\n",
    "x_labels = ['1', '2', '3', '4', '5', '6', '7', '8', '9', '10', '11', '12', '13', '14', '15', '16', '17', '18', '19', '20']\n",
    "plt.xticks(ticks = x_ticks, labels = x_labels)\n",
    "plt.legend()\n",
    "plt.show()"
   ]
  },
  {
   "attachments": {},
   "cell_type": "markdown",
   "metadata": {},
   "source": [
    "We can see that, in general, participants score about the same on both letters and equations and that, overall, the scores are quite good. Participants 13 and 19 stand out as outliers: these participants seemed to have struggled a lot with the letter task. "
   ]
  },
  {
   "attachments": {},
   "cell_type": "markdown",
   "metadata": {},
   "source": [
    "4. Determine overall mean percentage correct for letters and equations. "
   ]
  },
  {
   "cell_type": "code",
   "execution_count": 8,
   "metadata": {},
   "outputs": [
    {
     "name": "stdout",
     "output_type": "stream",
     "text": [
      "mean letter score (with outliers): 0.873\n",
      "mean equation score: 0.912\n"
     ]
    }
   ],
   "source": [
    "mean_let_score = sum(let_percentage_correct)/len(let_percentage_correct)\n",
    "print('mean letter score (with outliers): ' + str(round(mean_let_score, 3)))\n",
    "mean_eq_score = sum(eq_percentage_correct)/len(eq_percentage_correct)\n",
    "print('mean equation score: ' + str(round(mean_eq_score, 3)))"
   ]
  },
  {
   "attachments": {},
   "cell_type": "markdown",
   "metadata": {},
   "source": [
    "5. Determine if participant performance differs on long vs. short trials. "
   ]
  }
 ],
 "metadata": {
  "kernelspec": {
   "display_name": "base",
   "language": "python",
   "name": "python3"
  },
  "language_info": {
   "codemirror_mode": {
    "name": "ipython",
    "version": 3
   },
   "file_extension": ".py",
   "mimetype": "text/x-python",
   "name": "python",
   "nbconvert_exporter": "python",
   "pygments_lexer": "ipython3",
   "version": "3.9.12"
  },
  "orig_nbformat": 4,
  "vscode": {
   "interpreter": {
    "hash": "6f670d61a5e7dde4c7c3aa69df4716701e5d998290339258d4308a2eb38340be"
   }
  }
 },
 "nbformat": 4,
 "nbformat_minor": 2
}
