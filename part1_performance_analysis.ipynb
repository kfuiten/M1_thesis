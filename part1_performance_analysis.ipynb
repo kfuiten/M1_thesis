{
 "cells": [
  {
   "attachments": {},
   "cell_type": "markdown",
   "metadata": {},
   "source": [
    "Kassandra's first 20 participants - data cleaning & a bit of exploratory analysis"
   ]
  },
  {
   "attachments": {},
   "cell_type": "markdown",
   "metadata": {},
   "source": [
    "1. Import the data and and create a more readable csv file. "
   ]
  },
  {
   "cell_type": "code",
   "execution_count": 1,
   "metadata": {},
   "outputs": [
    {
     "name": "stdout",
     "output_type": "stream",
     "text": [
      "    name random  block_num  block_exp_time  block_load  block_settings  \\\n",
      "16    24  False          0        276106.0         5.0              30   \n",
      "17    24  False          0        276106.0         5.0              30   \n",
      "18    24  False          0        276106.0         5.0              30   \n",
      "19    24  False          0        276106.0         5.0              30   \n",
      "20    24  False          0        276106.0         5.0              30   \n",
      "\n",
      "    trial_num  trial_exp_time pres_letter  letter_pres_exp_time  ...  \\\n",
      "16        1.0        276400.0           Q              276440.0  ...   \n",
      "17        1.0        283471.0           S              283523.0  ...   \n",
      "18        1.0        290554.0           P              290590.0  ...   \n",
      "19        1.0        297631.0           F              297673.0  ...   \n",
      "20        1.0        304713.0           B              304740.0  ...   \n",
      "\n",
      "   letter_answ_exp_time  letter_react_time  letter_memory_time  pres_eq  \\\n",
      "16             274304.0             2214.0              8550.0    6-5=1   \n",
      "17             313064.0             1274.0             36650.0    8-3=5   \n",
      "18             313889.0             2099.0             30400.0   8+6=15   \n",
      "19             314224.0             2434.0             23667.0    6-1=5   \n",
      "20             314456.0             2666.0             16817.0    3-2=1   \n",
      "\n",
      "   eq_pres_exp_time  eq_truthvalue truth_given truth_react_time  \\\n",
      "16         277456.0              y           n           1873.0   \n",
      "17         284540.0              y           y           2924.0   \n",
      "18         291606.0              n           n           2697.0   \n",
      "19         298690.0              y           y           1879.0   \n",
      "20         305756.0              y           y           1852.0   \n",
      "\n",
      "    letters_correct  equations_correct  \n",
      "16                1                  0  \n",
      "17                1                  1  \n",
      "18                1                  1  \n",
      "19                1                  1  \n",
      "20                1                  1  \n",
      "\n",
      "[5 rows x 21 columns]\n"
     ]
    }
   ],
   "source": [
    "#Import packages and set path \n",
    "import pandas as pd \n",
    "import glob \n",
    "import matplotlib.pyplot as plt\n",
    "import numpy as np \n",
    "path = \"/Users/kassandrafuiten/\"\n",
    "\n",
    "#Combine all participant task performance csvs in to single data frame \n",
    "combined_data = pd.DataFrame()\n",
    "csv_files = glob.glob(path + \"task_performance_csv\" + \"/*.csv\")\n",
    "for file in csv_files:\n",
    "    df = pd.read_csv(file)\n",
    "    combined_data = pd.concat([combined_data, df])\n",
    "combined_data = combined_data.drop(['Unnamed: 0'], axis=1) #delete junk column \n",
    "combined_data.dropna(subset=['name'], inplace=True) #delete extra rows at the end of CSVs \n",
    "combined_data = combined_data[~combined_data.apply(lambda x: x.astype(str).str.contains('training').any(), axis=1)] #delete training trials \n",
    "combined_data['name'] = combined_data['name'].astype(int) \n",
    "combined_data['block_settings'] = combined_data['block_settings'].astype(int) \n",
    "combined_data['block_num'] = combined_data['block_num'].astype(int) \n",
    "\n",
    "#Add columns that indicate if participants letter or equation answers were correct\n",
    "letters_true = combined_data['pres_letter'] == combined_data['answ_letter']\n",
    "combined_data['letters_correct'] = letters_true \n",
    "equations_true = combined_data['eq_truthvalue'] == combined_data['truth_given']\n",
    "combined_data['equations_correct'] = equations_true\n",
    "combined_data['letters_correct'] = combined_data['letters_correct'].astype(int) \n",
    "combined_data['equations_correct'] = combined_data['equations_correct'].astype(int)\n",
    "\n",
    "#Save cleaned csv \n",
    "combined_data.to_csv(path +\"first_participants_performance\"+\".csv\")\n",
    "\n",
    "#Check dataframe \n",
    "print(combined_data.head())"
   ]
  },
  {
   "attachments": {},
   "cell_type": "markdown",
   "metadata": {},
   "source": [
    "2. Calculate each participants' overall letter and equation score. "
   ]
  },
  {
   "cell_type": "code",
   "execution_count": 2,
   "metadata": {},
   "outputs": [],
   "source": [
    "#Create dictionary \n",
    "by_participant = combined_data.groupby('name')\n",
    "participant_dfs = {}\n",
    "for i, name in by_participant: \n",
    "    participant_dfs[i] = name\n",
    "\n",
    "#Determine letter scores for each participant \n",
    "participant_rows = combined_data['name'].value_counts()[1] #determine how many rows per participant \n",
    "let_percentage_correct = []\n",
    "for name in participant_dfs: \n",
    "    let_correct = participant_dfs[name][\"letters_correct\"].value_counts()[1]\n",
    "    lper_correct = let_correct / participant_rows \n",
    "    let_percentage_correct.append(lper_correct)\n",
    "\n",
    "#Determine equation scores for each participant \n",
    "eq_percentage_correct = []\n",
    "for name in participant_dfs: \n",
    "    eq_correct = participant_dfs[name][\"equations_correct\"].value_counts()[1]\n",
    "    eper_correct = eq_correct / participant_rows \n",
    "    eq_percentage_correct.append(eper_correct)"
   ]
  },
  {
   "attachments": {},
   "cell_type": "markdown",
   "metadata": {},
   "source": [
    "3. Graph scores by participant. "
   ]
  },
  {
   "cell_type": "code",
   "execution_count": 3,
   "metadata": {},
   "outputs": [
    {
     "data": {
      "image/png": "[encoded data removed]",
      "text/plain": [
       "<Figure size 432x288 with 1 Axes>"
      ]
     },
     "metadata": {
      "needs_background": "light"
     },
     "output_type": "display_data"
    }
   ],
   "source": [
    "plt.plot(let_percentage_correct, label=\"Letter Score\", marker='o', linestyle='-', color='c')\n",
    "plt.plot(eq_percentage_correct, label=\"Equation Score\", marker='o', linestyle='-', color='m')\n",
    "plt.xlabel(\"Participant\")\n",
    "plt.ylabel(\"Percentage Correct\")\n",
    "plt.title(\"Percentage Correct by Participant\")\n",
    "x_ticks = [0, 1, 2, 3, 4, 5, 6, 7, 8, 9, 10, 11, 12, 13, 14, 15, 16, 17, 18, 19, 20, 21, 22]\n",
    "x_labels = ['1', '2', '3', '4', '5', '6', '7', '8', '9', '10', '11', '12', '13', '14', '15', '16', '17', '18', '19', '20', '21', '22', '23']\n",
    "plt.xticks(ticks = x_ticks, labels = x_labels)\n",
    "plt.legend()\n",
    "plt.show()"
   ]
  },
  {
   "attachments": {},
   "cell_type": "markdown",
   "metadata": {},
   "source": [
    "We can see that, in general, participants score about the same on both letters and equations and that, overall, the scores are quite good. Participants 13 and 19 stand out as outliers: these participants seemed to have struggled a lot with the letter task. "
   ]
  },
  {
   "attachments": {},
   "cell_type": "markdown",
   "metadata": {},
   "source": [
    "4. Determine overall mean percentage correct for letters and equations. "
   ]
  },
  {
   "cell_type": "code",
   "execution_count": 4,
   "metadata": {},
   "outputs": [
    {
     "name": "stdout",
     "output_type": "stream",
     "text": [
      "mean letter score (with outliers): 0.886\n",
      "mean equation score: 0.913\n"
     ]
    }
   ],
   "source": [
    "mean_let_score = sum(let_percentage_correct)/len(let_percentage_correct)\n",
    "print('mean letter score (with outliers): ' + str(round(mean_let_score, 3)))\n",
    "mean_eq_score = sum(eq_percentage_correct)/len(eq_percentage_correct)\n",
    "print('mean equation score: ' + str(round(mean_eq_score, 3)))"
   ]
  },
  {
   "attachments": {},
   "cell_type": "markdown",
   "metadata": {},
   "source": [
    "5. Determine if participant performance differs on long vs. short trials. "
   ]
  },
  {
   "cell_type": "code",
   "execution_count": 5,
   "metadata": {},
   "outputs": [
    {
     "data": {
      "image/png": "[encoded data removed]",
      "text/plain": [
       "<Figure size 432x288 with 1 Axes>"
      ]
     },
     "metadata": {
      "needs_background": "light"
     },
     "output_type": "display_data"
    }
   ],
   "source": [
    "#Seperate out short time conditions \n",
    "short_time = 20 \n",
    "short_time_dfs = {} #create new dictionary with only short time conditions \n",
    "for name in participant_dfs.keys():\n",
    "    short_time_dfs[name] = participant_dfs[name][participant_dfs[name][\"block_settings\"] == short_time]\n",
    "short_time_dfs[1].to_csv(path +\"short_time_participants\"+\".csv\")\n",
    "\n",
    "#Calculate percentages correct for short time conditions \n",
    "st_rows = 120 \n",
    "st_let_percentage_correct = []\n",
    "for name in short_time_dfs: \n",
    "    st_let_correct = short_time_dfs[name][\"letters_correct\"].value_counts()[1]\n",
    "    st_lper_correct = st_let_correct / 120\n",
    "    st_let_percentage_correct.append(st_lper_correct)\n",
    "\n",
    "#Seperate out long time conditions \n",
    "long_time = 30 \n",
    "long_time_dfs = {} #create new dictionary with only long time conditions \n",
    "for name in participant_dfs.keys():\n",
    "    long_time_dfs[name] = participant_dfs[name][participant_dfs[name][\"block_settings\"] == long_time]\n",
    "long_time_dfs[1].to_csv(path +\"short_time_participants\"+\".csv\")\n",
    "\n",
    "#Calculate percentages correct for short time conditions \n",
    "lt_let_percentage_correct = []\n",
    "for name in long_time_dfs: \n",
    "    lt_let_correct = long_time_dfs[name][\"letters_correct\"].value_counts()[1]\n",
    "    lt_lper_correct = lt_let_correct / 120\n",
    "    lt_let_percentage_correct.append(lt_lper_correct)\n",
    "\n",
    "#Graph short versus long time duration letter score \n",
    "plt.plot(st_let_percentage_correct, label=\"20 Second Duration\", marker='o', linestyle='-')\n",
    "plt.plot(lt_let_percentage_correct, label=\"30 Second Duration\", marker='o', linestyle='-')\n",
    "plt.xlabel(\"Participant\")\n",
    "plt.ylabel(\"Letter Percentage Correct\")\n",
    "plt.title(\"Letter Percentage Correct by Time Condition\")\n",
    "plt.xticks(ticks = x_ticks, labels = x_labels)\n",
    "plt.legend()\n",
    "plt.show()"
   ]
  },
  {
   "attachments": {},
   "cell_type": "markdown",
   "metadata": {},
   "source": [
    "It seems that participants tend to do slightly better on the long duration trials. "
   ]
  },
  {
   "attachments": {},
   "cell_type": "markdown",
   "metadata": {},
   "source": [
    "6. Import thought probe csv files and combine them into a single, cleaned csv file (to be explored using R). "
   ]
  },
  {
   "cell_type": "code",
   "execution_count": 6,
   "metadata": {},
   "outputs": [
    {
     "name": "stdout",
     "output_type": "stream",
     "text": [
      "    participant  time_condition  trial_score  probe1  probe2\n",
      "3           1.0            30.0          1.0       6  ['B1']\n",
      "4           1.0            20.0          1.0       6  ['B1']\n",
      "5           1.0            20.0          1.0       6  ['B1']\n",
      "10          1.0            30.0          1.0       6  ['B1']\n",
      "11          1.0            30.0          1.0       6  ['B1']\n"
     ]
    }
   ],
   "source": [
    "#Create probe dataframe \n",
    "probe_df = pd.DataFrame()\n",
    "csv_files = glob.glob(path + \"thought_probe_csv\" + \"/*.csv\")\n",
    "for file in csv_files:\n",
    "    df = pd.read_csv(file)\n",
    "    probe_df = pd.concat([probe_df, df])\n",
    "probe_df['probe1_answ'].fillna(0, inplace=True)\n",
    "probe_df['probe1_answ'] = probe_df['probe1_answ'].astype(int)\n",
    "probe_df['probe2_answ'].fillna(0, inplace=True)\n",
    "probe_df = probe_df[~probe_df.apply(lambda x: x.astype(str).str.contains('training').any(), axis=1)]\n",
    "\n",
    "#Create probe dictionary \n",
    "probe_participant = probe_df.groupby('name')\n",
    "probe_dict = {}\n",
    "for i, name in probe_participant: \n",
    "    probe_dict[i] = name\n",
    "\n",
    "#Create lists with probe answers \n",
    "probe_1 = []\n",
    "probe_2 = []\n",
    "for i, name in probe_dict.items(): \n",
    "    probe1_answ = name['probe1_answ'].tolist()\n",
    "    probe2_answ = name['probe2_answ'].tolist()\n",
    "    probe_1.extend(probe1_answ)\n",
    "    probe_2.extend(probe2_answ)\n",
    "\n",
    "#Create list with all participants' mean scores \n",
    "all_scores_mean = []\n",
    "for i, name in participant_dfs.items(): \n",
    "    scores_mean = name.groupby(['block_num', 'trial_num'])['letters_correct'].mean()\n",
    "    scores_mean = scores_mean.to_list()\n",
    "    all_scores_mean.extend(scores_mean)\n",
    "\n",
    "#Create list for time conditions by trial \n",
    "time_condition = []\n",
    "for i, name in participant_dfs.items(): \n",
    "    time = name.groupby(['block_num', 'trial_num'])['block_settings'].mean()\n",
    "    time = time.to_list()\n",
    "    time_condition.extend(time)\n",
    "\n",
    "#Create list for participants' names\n",
    "participant = []\n",
    "for i, name in participant_dfs.items(): \n",
    "    p_name = name.groupby(['block_num', 'trial_num'])['name'].mean()\n",
    "    p_name  = p_name.to_list()\n",
    "    participant.extend(p_name)\n",
    "\n",
    "#Create dataframe only for trials where thought probes were present \n",
    "mean_probe = list(zip(participant, time_condition, all_scores_mean, probe_1, probe_2))\n",
    "mean_probe_df = pd.DataFrame(mean_probe, columns=[\"participant\", \"time_condition\", \"trial_score\", \"probe1\", \"probe2\"])\n",
    "mean_probe_df = mean_probe_df[mean_probe_df[\"probe1\"] != 0] \n",
    "\n",
    "#Save csv\n",
    "mean_probe_df.to_csv(path +\"first_participants_probes\"+\".csv\")\n",
    "\n",
    "#Check data frame \n",
    "print(mean_probe_df.head())"
   ]
  },
  {
   "attachments": {},
   "cell_type": "markdown",
   "metadata": {},
   "source": [
    "7. Create giant data frame with all data, including ASRS scores. "
   ]
  },
  {
   "cell_type": "code",
   "execution_count": 7,
   "metadata": {},
   "outputs": [
    {
     "name": "stdout",
     "output_type": "stream",
     "text": [
      "   participant random  block_num  block_exp_time  block_load  block_settings  \\\n",
      "0            1  False          0        294964.0         5.0              30   \n",
      "1            1  False          0        294964.0         5.0              30   \n",
      "2            1  False          0        294964.0         5.0              30   \n",
      "3            1  False          0        294964.0         5.0              30   \n",
      "4            1  False          0        294964.0         5.0              30   \n",
      "\n",
      "   trial_num  trial_exp_time pres_letter  letter_pres_exp_time  ...  \\\n",
      "0        1.0        295252.0           G              295293.0  ...   \n",
      "1        1.0        302333.0           C              302359.0  ...   \n",
      "2        1.0        309393.0           P              309409.0  ...   \n",
      "3        1.0        316437.0           L              316460.0  ...   \n",
      "4        1.0        323500.0           R              323526.0  ...   \n",
      "\n",
      "  asrs_AB_raw_score_norm  asrs_AB_hit_score_norm  asrs_AB_att_hit_score_norm  \\\n",
      "0                    2.5                0.222222                    0.444444   \n",
      "1                    2.5                0.222222                    0.444444   \n",
      "2                    2.5                0.222222                    0.444444   \n",
      "3                    2.5                0.222222                    0.444444   \n",
      "4                    2.5                0.222222                    0.444444   \n",
      "\n",
      "   asrs_AB_att_raw_score_norm asrs_AB_hyp_hit_score_norm  \\\n",
      "0                         3.0                        0.0   \n",
      "1                         3.0                        0.0   \n",
      "2                         3.0                        0.0   \n",
      "3                         3.0                        0.0   \n",
      "4                         3.0                        0.0   \n",
      "\n",
      "   asrs_AB_hyp_raw_score_norm probe1_answ probe2_answ  probe1_time  \\\n",
      "0                         2.0           1           0            0   \n",
      "1                         2.0           1           0            0   \n",
      "2                         2.0           1           0            0   \n",
      "3                         2.0           1           0            0   \n",
      "4                         2.0           1           0            0   \n",
      "\n",
      "   trial_score  \n",
      "0          1.0  \n",
      "1          1.0  \n",
      "2          1.0  \n",
      "3          1.0  \n",
      "4          1.0  \n",
      "\n",
      "[5 rows x 50 columns]\n"
     ]
    }
   ],
   "source": [
    "#Add ASRS data \n",
    "asrs = pd.read_csv(path + 'ASRS_data.csv')\n",
    "asrs = asrs.rename(columns = {'subject_id':'participant'})\n",
    "combined_data = combined_data.rename(columns = {'name':'participant'})\n",
    "with_asrs = pd.merge(combined_data, asrs, on= 'participant')\n",
    "with_asrs = with_asrs.sort_values(['participant', 'block_num', 'trial_num'])\n",
    "\n",
    "#Add probe data \n",
    "probe_df = probe_df.rename(columns = {'name':'participant'})\n",
    "probe_df = probe_df.sort_values(['participant', 'block_num', 'trial_num'])\n",
    "more_probes = pd.DataFrame(np.repeat(probe_df.values, 5, axis = 0))\n",
    "more_probes.rename(columns={more_probes.columns[0]:'name', more_probes.columns[1]:'block_num',more_probes.columns[2]:'trial_num',more_probes.columns[3]:'probe1_answ',more_probes.columns[4]:'probe2_answ',more_probes.columns[5]:'probe1_time'},inplace=True)\n",
    "new_df = pd.DataFrame().assign(probe1_answ=more_probes['probe1_answ'], probe2_answ=more_probes['probe2_answ'], probe1_time=more_probes['probe1_time'])\n",
    "with_asrs = with_asrs.reset_index()\n",
    "new_df = new_df.reset_index()\n",
    "all_data = pd.merge(with_asrs, new_df, left_index = True, right_index = True)\n",
    "all_data = all_data.drop(['index_x', 'index_y'], axis=1)\n",
    "\n",
    "#Add overall letter percentage correct for each trial \n",
    "trial_score = pd.DataFrame(np.repeat(all_scores_mean, 5))\n",
    "all_data['trial_score'] = trial_score\n",
    "\n",
    "#Save csv \n",
    "all_data.to_csv(path+'all_data'+'.csv')\n",
    "print(all_data.head())"
   ]
  }
 ],
 "metadata": {
  "kernelspec": {
   "display_name": "base",
   "language": "python",
   "name": "python3"
  },
  "language_info": {
   "codemirror_mode": {
    "name": "ipython",
    "version": 3
   },
   "file_extension": ".py",
   "mimetype": "text/x-python",
   "name": "python",
   "nbconvert_exporter": "python",
   "pygments_lexer": "ipython3",
   "version": "3.9.12"
  },
  "orig_nbformat": 4,
  "vscode": {
   "interpreter": {
    "hash": "6f670d61a5e7dde4c7c3aa69df4716701e5d998290339258d4308a2eb38340be"
   }
  }
 },
 "nbformat": 4,
 "nbformat_minor": 2
}
