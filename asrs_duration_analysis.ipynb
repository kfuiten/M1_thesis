{
 "cells": [
  {
   "cell_type": "code",
   "execution_count": 28,
   "metadata": {},
   "outputs": [
    {
     "data": {
      "text/html": [
       "<div>\n",
       "<style scoped>\n",
       "    .dataframe tbody tr th:only-of-type {\n",
       "        vertical-align: middle;\n",
       "    }\n",
       "\n",
       "    .dataframe tbody tr th {\n",
       "        vertical-align: top;\n",
       "    }\n",
       "\n",
       "    .dataframe thead th {\n",
       "        text-align: right;\n",
       "    }\n",
       "</style>\n",
       "<table border=\"1\" class=\"dataframe\">\n",
       "  <thead>\n",
       "    <tr style=\"text-align: right;\">\n",
       "      <th></th>\n",
       "      <th>Unnamed: 0</th>\n",
       "      <th>participant</th>\n",
       "      <th>random</th>\n",
       "      <th>block_num</th>\n",
       "      <th>block_exp_time</th>\n",
       "      <th>block_load</th>\n",
       "      <th>block_settings</th>\n",
       "      <th>trial_num</th>\n",
       "      <th>trial_exp_time</th>\n",
       "      <th>pres_letter</th>\n",
       "      <th>...</th>\n",
       "      <th>asrs_AB_raw_score_norm</th>\n",
       "      <th>asrs_AB_hit_score_norm</th>\n",
       "      <th>asrs_AB_att_hit_score_norm</th>\n",
       "      <th>asrs_AB_att_raw_score_norm</th>\n",
       "      <th>asrs_AB_hyp_hit_score_norm</th>\n",
       "      <th>asrs_AB_hyp_raw_score_norm</th>\n",
       "      <th>probe1_answ</th>\n",
       "      <th>probe2_answ</th>\n",
       "      <th>probe1_time</th>\n",
       "      <th>trial_score</th>\n",
       "    </tr>\n",
       "  </thead>\n",
       "  <tbody>\n",
       "    <tr>\n",
       "      <th>0</th>\n",
       "      <td>0</td>\n",
       "      <td>1</td>\n",
       "      <td>False</td>\n",
       "      <td>0</td>\n",
       "      <td>294964.0</td>\n",
       "      <td>5.0</td>\n",
       "      <td>30</td>\n",
       "      <td>1.0</td>\n",
       "      <td>295252.0</td>\n",
       "      <td>G</td>\n",
       "      <td>...</td>\n",
       "      <td>2.5</td>\n",
       "      <td>0.222222</td>\n",
       "      <td>0.444444</td>\n",
       "      <td>3.0</td>\n",
       "      <td>0.0</td>\n",
       "      <td>2.0</td>\n",
       "      <td>0</td>\n",
       "      <td>0</td>\n",
       "      <td>NaN</td>\n",
       "      <td>1.0</td>\n",
       "    </tr>\n",
       "    <tr>\n",
       "      <th>1</th>\n",
       "      <td>1</td>\n",
       "      <td>1</td>\n",
       "      <td>False</td>\n",
       "      <td>0</td>\n",
       "      <td>294964.0</td>\n",
       "      <td>5.0</td>\n",
       "      <td>30</td>\n",
       "      <td>1.0</td>\n",
       "      <td>302333.0</td>\n",
       "      <td>C</td>\n",
       "      <td>...</td>\n",
       "      <td>2.5</td>\n",
       "      <td>0.222222</td>\n",
       "      <td>0.444444</td>\n",
       "      <td>3.0</td>\n",
       "      <td>0.0</td>\n",
       "      <td>2.0</td>\n",
       "      <td>0</td>\n",
       "      <td>0</td>\n",
       "      <td>NaN</td>\n",
       "      <td>1.0</td>\n",
       "    </tr>\n",
       "    <tr>\n",
       "      <th>2</th>\n",
       "      <td>2</td>\n",
       "      <td>1</td>\n",
       "      <td>False</td>\n",
       "      <td>0</td>\n",
       "      <td>294964.0</td>\n",
       "      <td>5.0</td>\n",
       "      <td>30</td>\n",
       "      <td>1.0</td>\n",
       "      <td>309393.0</td>\n",
       "      <td>P</td>\n",
       "      <td>...</td>\n",
       "      <td>2.5</td>\n",
       "      <td>0.222222</td>\n",
       "      <td>0.444444</td>\n",
       "      <td>3.0</td>\n",
       "      <td>0.0</td>\n",
       "      <td>2.0</td>\n",
       "      <td>0</td>\n",
       "      <td>0</td>\n",
       "      <td>NaN</td>\n",
       "      <td>1.0</td>\n",
       "    </tr>\n",
       "    <tr>\n",
       "      <th>3</th>\n",
       "      <td>3</td>\n",
       "      <td>1</td>\n",
       "      <td>False</td>\n",
       "      <td>0</td>\n",
       "      <td>294964.0</td>\n",
       "      <td>5.0</td>\n",
       "      <td>30</td>\n",
       "      <td>1.0</td>\n",
       "      <td>316437.0</td>\n",
       "      <td>L</td>\n",
       "      <td>...</td>\n",
       "      <td>2.5</td>\n",
       "      <td>0.222222</td>\n",
       "      <td>0.444444</td>\n",
       "      <td>3.0</td>\n",
       "      <td>0.0</td>\n",
       "      <td>2.0</td>\n",
       "      <td>0</td>\n",
       "      <td>0</td>\n",
       "      <td>NaN</td>\n",
       "      <td>1.0</td>\n",
       "    </tr>\n",
       "    <tr>\n",
       "      <th>4</th>\n",
       "      <td>4</td>\n",
       "      <td>1</td>\n",
       "      <td>False</td>\n",
       "      <td>0</td>\n",
       "      <td>294964.0</td>\n",
       "      <td>5.0</td>\n",
       "      <td>30</td>\n",
       "      <td>1.0</td>\n",
       "      <td>323500.0</td>\n",
       "      <td>R</td>\n",
       "      <td>...</td>\n",
       "      <td>2.5</td>\n",
       "      <td>0.222222</td>\n",
       "      <td>0.444444</td>\n",
       "      <td>3.0</td>\n",
       "      <td>0.0</td>\n",
       "      <td>2.0</td>\n",
       "      <td>0</td>\n",
       "      <td>0</td>\n",
       "      <td>NaN</td>\n",
       "      <td>1.0</td>\n",
       "    </tr>\n",
       "  </tbody>\n",
       "</table>\n",
       "<p>5 rows × 51 columns</p>\n",
       "</div>"
      ],
      "text/plain": [
       "   Unnamed: 0  participant  random  block_num  block_exp_time  block_load  \\\n",
       "0           0            1   False          0        294964.0         5.0   \n",
       "1           1            1   False          0        294964.0         5.0   \n",
       "2           2            1   False          0        294964.0         5.0   \n",
       "3           3            1   False          0        294964.0         5.0   \n",
       "4           4            1   False          0        294964.0         5.0   \n",
       "\n",
       "   block_settings  trial_num  trial_exp_time pres_letter  ...  \\\n",
       "0              30        1.0        295252.0           G  ...   \n",
       "1              30        1.0        302333.0           C  ...   \n",
       "2              30        1.0        309393.0           P  ...   \n",
       "3              30        1.0        316437.0           L  ...   \n",
       "4              30        1.0        323500.0           R  ...   \n",
       "\n",
       "   asrs_AB_raw_score_norm asrs_AB_hit_score_norm  asrs_AB_att_hit_score_norm  \\\n",
       "0                     2.5               0.222222                    0.444444   \n",
       "1                     2.5               0.222222                    0.444444   \n",
       "2                     2.5               0.222222                    0.444444   \n",
       "3                     2.5               0.222222                    0.444444   \n",
       "4                     2.5               0.222222                    0.444444   \n",
       "\n",
       "   asrs_AB_att_raw_score_norm  asrs_AB_hyp_hit_score_norm  \\\n",
       "0                         3.0                         0.0   \n",
       "1                         3.0                         0.0   \n",
       "2                         3.0                         0.0   \n",
       "3                         3.0                         0.0   \n",
       "4                         3.0                         0.0   \n",
       "\n",
       "  asrs_AB_hyp_raw_score_norm  probe1_answ probe2_answ probe1_time  trial_score  \n",
       "0                        2.0            0           0         NaN          1.0  \n",
       "1                        2.0            0           0         NaN          1.0  \n",
       "2                        2.0            0           0         NaN          1.0  \n",
       "3                        2.0            0           0         NaN          1.0  \n",
       "4                        2.0            0           0         NaN          1.0  \n",
       "\n",
       "[5 rows x 51 columns]"
      ]
     },
     "execution_count": 28,
     "metadata": {},
     "output_type": "execute_result"
    }
   ],
   "source": [
    "#Load packages \n",
    "import pandas as pd\n",
    "import matplotlib.pyplot as plt\n",
    "import seaborn as sns\n",
    "from scipy.stats import ttest_rel\n",
    "\n",
    "#Load dataset \n",
    "path = '/Users/kassandrafuiten/'\n",
    "data = pd.read_csv(path + 'all_data.csv')\n",
    "data.head()"
   ]
  },
  {
   "attachments": {},
   "cell_type": "markdown",
   "metadata": {},
   "source": [
    "First, we explore the data, checking the mean letter score percentage for each participant makes sense. In this score calculation, each letter is scored individually and is only counted correct if it is the the correct location in the sequence. "
   ]
  },
  {
   "cell_type": "code",
   "execution_count": 29,
   "metadata": {},
   "outputs": [
    {
     "name": "stdout",
     "output_type": "stream",
     "text": [
      "   participant  random  block_num  block_exp_time  block_load  block_settings  \\\n",
      "0            1   False          0        294964.0         5.0              30   \n",
      "1            1   False          0        294964.0         5.0              30   \n",
      "2            1   False          0        294964.0         5.0              30   \n",
      "3            1   False          0        294964.0         5.0              30   \n",
      "4            1   False          0        294964.0         5.0              30   \n",
      "\n",
      "   trial_num  trial_exp_time pres_letter  letter_pres_exp_time  ...  \\\n",
      "0        1.0        295252.0           G              295293.0  ...   \n",
      "1        1.0        302333.0           C              302359.0  ...   \n",
      "2        1.0        309393.0           P              309409.0  ...   \n",
      "3        1.0        316437.0           L              316460.0  ...   \n",
      "4        1.0        323500.0           R              323526.0  ...   \n",
      "\n",
      "  asrs_AB_hit_score_norm  asrs_AB_att_hit_score_norm  \\\n",
      "0               0.222222                    0.444444   \n",
      "1               0.222222                    0.444444   \n",
      "2               0.222222                    0.444444   \n",
      "3               0.222222                    0.444444   \n",
      "4               0.222222                    0.444444   \n",
      "\n",
      "   asrs_AB_att_raw_score_norm  asrs_AB_hyp_hit_score_norm  \\\n",
      "0                         3.0                         0.0   \n",
      "1                         3.0                         0.0   \n",
      "2                         3.0                         0.0   \n",
      "3                         3.0                         0.0   \n",
      "4                         3.0                         0.0   \n",
      "\n",
      "  asrs_AB_hyp_raw_score_norm  probe1_answ probe2_answ probe1_time  \\\n",
      "0                        2.0            0           0         NaN   \n",
      "1                        2.0            0           0         NaN   \n",
      "2                        2.0            0           0         NaN   \n",
      "3                        2.0            0           0         NaN   \n",
      "4                        2.0            0           0         NaN   \n",
      "\n",
      "   trial_score  mean_trial_score  \n",
      "0          1.0          0.991667  \n",
      "1          1.0          0.991667  \n",
      "2          1.0          0.991667  \n",
      "3          1.0          0.991667  \n",
      "4          1.0          0.991667  \n",
      "\n",
      "[5 rows x 51 columns]\n"
     ]
    },
    {
     "data": {
      "image/png": "[encoded data removed]",
      "text/plain": [
       "<Figure size 432x288 with 1 Axes>"
      ]
     },
     "metadata": {
      "needs_background": "light"
     },
     "output_type": "display_data"
    }
   ],
   "source": [
    "#Calculate mean trial score for each participant\n",
    "data.groupby('participant')['trial_score'].mean()\n",
    "\n",
    "#Add mean trial score to data frame\n",
    "data['mean_trial_score'] = data.groupby('participant')['trial_score'].transform('mean')\n",
    "data = data.drop(['Unnamed: 0'], axis=1)\n",
    "print(data.head())\n",
    "data.to_csv(path + 'all_data.csv')\n",
    "\n",
    "#Plot mean trial score for each participant\n",
    "plt.scatter(x=data['participant'], y=data['mean_trial_score'])\n",
    "plt.xlabel('Participant')\n",
    "plt.ylabel('Mean Trial Score')\n",
    "plt.title('Mean Trial Score for Each Participant')\n",
    "plt.show()"
   ]
  },
  {
   "attachments": {},
   "cell_type": "markdown",
   "metadata": {},
   "source": [
    "There's one clear outlier in our data frame: participant 14. Let's remove this participant and plot again. "
   ]
  },
  {
   "cell_type": "code",
   "execution_count": 30,
   "metadata": {},
   "outputs": [
    {
     "data": {
      "image/png": "[encoded data removed]",
      "text/plain": [
       "<Figure size 432x288 with 1 Axes>"
      ]
     },
     "metadata": {
      "needs_background": "light"
     },
     "output_type": "display_data"
    }
   ],
   "source": [
    "#Plot mean trial scores without participant 14. \n",
    "data = data[data['mean_trial_score'] > 0.5]\n",
    "plt.scatter(x=data['participant'], y=data['mean_trial_score'])\n",
    "plt.xlabel('Participant')\n",
    "plt.ylabel('Mean Trial Score')\n",
    "plt.title('Mean Trial Score for Each Participant')\n",
    "plt.show()"
   ]
  },
  {
   "attachments": {},
   "cell_type": "markdown",
   "metadata": {},
   "source": [
    "We still have a couple of low-hanging data points near the 50% mark (participants 20 and 28) but, for now, let's leave those in. \n",
    "\n",
    "Next, let's investigate the mean trial score by trial duration. There were two potential durations of trials: 20 seconds and 30 seconds. "
   ]
  },
  {
   "cell_type": "code",
   "execution_count": 31,
   "metadata": {},
   "outputs": [
    {
     "name": "stdout",
     "output_type": "stream",
     "text": [
      "block_settings\n",
      "20    0.897817\n",
      "30    0.910714\n",
      "Name: trial_score, dtype: float64\n"
     ]
    },
    {
     "data": {
      "image/png": "[encoded data removed]",
      "text/plain": [
       "<Figure size 432x288 with 1 Axes>"
      ]
     },
     "metadata": {
      "needs_background": "light"
     },
     "output_type": "display_data"
    }
   ],
   "source": [
    "#Calculate mean trial score for each participant by trial duration\n",
    "print(data.groupby(['block_settings'])['trial_score'].mean())\n",
    "\n",
    "#Plot mean trial score for each participant by block_settings\n",
    "data.groupby(['block_settings'])['trial_score'].mean().plot(kind='bar', stacked=False)\n",
    "plt.xlabel('Trial Duration')\n",
    "plt.ylabel('Mean Trial Score')\n",
    "plt.title('Mean Trial Score for Each Block Setting')\n",
    "plt.show()"
   ]
  },
  {
   "attachments": {},
   "cell_type": "markdown",
   "metadata": {},
   "source": [
    "The mean trial score for each duration looks very similar, but let's do a paried t-test to ensure that the difference in means is below change level.  "
   ]
  },
  {
   "cell_type": "code",
   "execution_count": 32,
   "metadata": {},
   "outputs": [
    {
     "data": {
      "text/plain": [
       "Ttest_relResult(statistic=-1.4512071570541716, pvalue=0.15433110922868085)"
      ]
     },
     "execution_count": 32,
     "metadata": {},
     "output_type": "execute_result"
    }
   ],
   "source": [
    "#Organize mean trial score for each participant by duration into two lists \n",
    "by_duration = data.groupby(['participant', 'block_settings'])['trial_score'].mean()\n",
    "by_duration = by_duration.reset_index()\n",
    "by_duration = by_duration.pivot(index='participant', columns='block_settings', values='trial_score')\n",
    "column_lists = [by_duration[col].tolist() for col in by_duration]\n",
    "short_duration, long_duration = column_lists\n",
    "\n",
    "#Perform paired t-test to determine if there is a significant difference between mean trial score for each participant by duration\n",
    "ttest_rel(short_duration, long_duration)\n",
    "\n",
    "#As expected, the p-value is not significant (p = 0.154)."
   ]
  },
  {
   "attachments": {},
   "cell_type": "markdown",
   "metadata": {},
   "source": [
    "Even though there appears to be no difference between performance by duration across all participants, perhaps the effect of duration varies based on participants' ASRS scores. Within our sample, we have a nice distribution of ASRS scores.  "
   ]
  },
  {
   "cell_type": "code",
   "execution_count": 33,
   "metadata": {},
   "outputs": [
    {
     "data": {
      "text/plain": [
       "<AxesSubplot:xlabel='asrs_A_hit_score', ylabel='count'>"
      ]
     },
     "execution_count": 33,
     "metadata": {},
     "output_type": "execute_result"
    },
    {
     "data": {
      "image/png": "[encoded data removed]",
      "text/plain": [
       "<Figure size 432x288 with 1 Axes>"
      ]
     },
     "metadata": {
      "needs_background": "light"
     },
     "output_type": "display_data"
    }
   ],
   "source": [
    "#Histogram of ASRS A scores\n",
    "no_duplicates = data.drop_duplicates(subset=['participant'])\n",
    "sns.countplot(data=no_duplicates, x='asrs_A_hit_score')"
   ]
  },
  {
   "attachments": {},
   "cell_type": "markdown",
   "metadata": {},
   "source": [
    "Let's also check for a relationship between ASRS scores and performance (again, performance here is only taking letter score into account). "
   ]
  },
  {
   "cell_type": "code",
   "execution_count": 34,
   "metadata": {},
   "outputs": [
    {
     "data": {
      "text/plain": [
       "<AxesSubplot:xlabel='asrs_A_hit_score', ylabel='mean_trial_score'>"
      ]
     },
     "execution_count": 34,
     "metadata": {},
     "output_type": "execute_result"
    },
    {
     "data": {
      "image/png": "[encoded data removed]",
      "text/plain": [
       "<Figure size 432x288 with 1 Axes>"
      ]
     },
     "metadata": {
      "needs_background": "light"
     },
     "output_type": "display_data"
    }
   ],
   "source": [
    "#Scatter plot of ASRS A scores and mean trial scores\n",
    "sns.stripplot(x=no_duplicates['asrs_A_hit_score'], y=no_duplicates['mean_trial_score'], jitter=0.2, size=5)\n",
    "\n",
    "#There doesn't appear to be a clear relationship between ASRS score and performance "
   ]
  },
  {
   "attachments": {},
   "cell_type": "markdown",
   "metadata": {},
   "source": [
    " There are a couple different ways define trait ADHD. Let's start by looking only at people who achieved a \"hit\" score on the ASRS (meaning that they answered \"often\" or \"very often\" on at least 4 of the first 6 questions). "
   ]
  },
  {
   "cell_type": "code",
   "execution_count": 35,
   "metadata": {},
   "outputs": [
    {
     "data": {
      "text/plain": [
       "asrs_adhd_detected\n",
       "False    0.913113\n",
       "True     0.866667\n",
       "Name: trial_score, dtype: float64"
      ]
     },
     "execution_count": 35,
     "metadata": {},
     "output_type": "execute_result"
    }
   ],
   "source": [
    "#Calculate mean trial score by whether or not ADHD was detected \n",
    "data.groupby('asrs_adhd_detected')['trial_score'].mean()\n",
    "\n",
    "#As expected, the mean trial score is lower when ADHD was detected."
   ]
  },
  {
   "cell_type": "code",
   "execution_count": 36,
   "metadata": {},
   "outputs": [
    {
     "name": "stdout",
     "output_type": "stream",
     "text": [
      "asrs_adhd_detected  block_settings\n",
      "False               20                0.911520\n",
      "                    30                0.914706\n",
      "True                20                0.839583\n",
      "                    30                0.893750\n",
      "Name: trial_score, dtype: float64\n"
     ]
    }
   ],
   "source": [
    "#Calculate mean trial score by whether or not ADHD was detected and by trial duration\n",
    "print(data.groupby(['asrs_adhd_detected', 'block_settings'])['trial_score'].mean())\n",
    "\n",
    "#This is interesting - long duration appears to benefit performance more when ADHD was detected."
   ]
  },
  {
   "cell_type": "code",
   "execution_count": 37,
   "metadata": {},
   "outputs": [
    {
     "data": {
      "image/png": "[encoded data removed]",
      "text/plain": [
       "<Figure size 432x288 with 1 Axes>"
      ]
     },
     "metadata": {
      "needs_background": "light"
     },
     "output_type": "display_data"
    }
   ],
   "source": [
    "#Line plot of mean trial score by whether or not ADHD was detected and by trial duration\n",
    "block_settings = [20, 30]\n",
    "metric_values = [\n",
    "    [0.911520, 0.914706],\n",
    "    [0.839583, 0.893750]\n",
    "]\n",
    "plt.plot(block_settings, metric_values[0], label=\"ADHD Not Detected\", color='blue')\n",
    "plt.plot(block_settings, metric_values[1], label=\"ADHD Detected\", color='red')\n",
    "plt.xlabel(\"Trial Duration\"); plt.ylabel(\"Lettter Percentage Correct\"); plt.title(\"Letter Percentage Correct by Trial Duration\")\n",
    "x_ticks = [20, 30]; x_labels = ['20', '30']; plt.xticks(ticks = x_ticks, labels = x_labels)\n",
    "plt.legend()\n",
    "plt.show()"
   ]
  },
  {
   "attachments": {},
   "cell_type": "markdown",
   "metadata": {},
   "source": [
    "Let's see if the difference in means by duration is significant when ADHD is detected. "
   ]
  },
  {
   "cell_type": "code",
   "execution_count": 38,
   "metadata": {},
   "outputs": [
    {
     "name": "stdout",
     "output_type": "stream",
     "text": [
      "participant  block_settings\n",
      "4            20                0.750000\n",
      "             30                0.758333\n",
      "5            20                0.866667\n",
      "             30                0.933333\n",
      "12           20                0.783333\n",
      "             30                0.900000\n",
      "13           20                0.875000\n",
      "             30                0.875000\n",
      "19           20                0.966667\n",
      "             30                0.933333\n",
      "22           20                0.966667\n",
      "             30                0.983333\n",
      "23           20                0.941667\n",
      "             30                0.966667\n",
      "33           20                0.566667\n",
      "             30                0.800000\n",
      "Name: trial_score, dtype: float64\n"
     ]
    },
    {
     "data": {
      "text/plain": [
       "Ttest_relResult(statistic=-1.7929397171411328, pvalue=0.11607748551666194)"
      ]
     },
     "execution_count": 38,
     "metadata": {},
     "output_type": "execute_result"
    }
   ],
   "source": [
    "#Subset data frame by whether or not ADHD was detected\n",
    "adhd_detected = data[data['asrs_adhd_detected'] == True]\n",
    "print(adhd_detected.groupby(['participant', 'block_settings'])['trial_score'].mean())\n",
    "\n",
    "#Create lists for t-test\n",
    "short_dur = [0.75, 0.866667, 0.783333, 0.875000, 0.966667, 0.966667, 0.941667, 0.566667]\n",
    "long_dur = [0.758333, 0.933333,0.900000, 0.875000, 0.933333, 0.983333, 0.966667, 0.800000]\n",
    "\n",
    "#Perform paired t-test to determine if there is a significant difference between mean trial score for each participant by duration\n",
    "ttest_rel(short_dur, long_dur)\n",
    "\n",
    "#The p-value is not quite significant (p = 0.116). "
   ]
  },
  {
   "attachments": {},
   "cell_type": "markdown",
   "metadata": {},
   "source": [
    "Notice that there's only 8 participants with ADHD \"hit\" scores. Perhaps it's more interesting to seperate participants into \"high\" vs. \"low\" trait-ADHD, with high-trait defined as scoring 3 or above on the ASRS A (ASRS A meaning those first 6 questions). This gives us two near-equal samples. "
   ]
  },
  {
   "cell_type": "code",
   "execution_count": 39,
   "metadata": {},
   "outputs": [
    {
     "name": "stdout",
     "output_type": "stream",
     "text": [
      "High Trait-ADHD:\n",
      "block_settings\n",
      "20    0.887121\n",
      "30    0.912500\n",
      "Name: trial_score, dtype: float64\n",
      "Low Trait-ADHD:\n",
      "block_settings\n",
      "20    0.909583\n",
      "30    0.908750\n",
      "Name: trial_score, dtype: float64\n"
     ]
    }
   ],
   "source": [
    "#Calculate mean trial score by whether or not ADHD was detected and by trial duration\n",
    "high_adhd = data[data['asrs_A_hit_score'] >= 3]\n",
    "low_adhd = data[data['asrs_A_hit_score'] < 3]\n",
    "high_adhd_mean = high_adhd.groupby(['block_settings'])['trial_score'].mean()  \n",
    "low_adhd_mean = low_adhd.groupby(['block_settings'])['trial_score'].mean()\n",
    "print('High Trait-ADHD:')\n",
    "print(high_adhd_mean)\n",
    "print('Low Trait-ADHD:')\n",
    "print(low_adhd_mean)"
   ]
  },
  {
   "cell_type": "code",
   "execution_count": 40,
   "metadata": {},
   "outputs": [
    {
     "data": {
      "image/png": "[encoded data removed]",
      "text/plain": [
       "<Figure size 432x288 with 1 Axes>"
      ]
     },
     "metadata": {
      "needs_background": "light"
     },
     "output_type": "display_data"
    }
   ],
   "source": [
    "#Line plot of mean trial score by whether or not ADHD was detected and by trial duration\n",
    "block_settings = [20, 30]\n",
    "metric_values = [\n",
    "    [0.887121, 0.912500],\n",
    "    [0.909583, 0.908750]\n",
    "]\n",
    "plt.plot(block_settings, metric_values[0], label=\"High Trait-ADHD\", color='red')\n",
    "plt.plot(block_settings, metric_values[1], label=\"Low Trait-ADHD\", color='blue')\n",
    "plt.xlabel(\"Trial Duration\"); plt.ylabel(\"Letter Percentage Correct\"); plt.title(\"Letter Percentage Correct by Trial Duration\")\n",
    "x_ticks = [20, 30]; x_labels = ['20', '30']; plt.xticks(ticks = x_ticks, labels = x_labels)\n",
    "plt.legend()\n",
    "plt.show()"
   ]
  },
  {
   "attachments": {},
   "cell_type": "markdown",
   "metadata": {},
   "source": [
    "If there's any benefit to long duration for participants high in trait-ADHD, it's very small. Let's do a t-test to confirm this."
   ]
  },
  {
   "cell_type": "code",
   "execution_count": 41,
   "metadata": {},
   "outputs": [
    {
     "data": {
      "text/plain": [
       "Ttest_relResult(statistic=-1.7079255321640971, pvalue=0.10239240059193332)"
      ]
     },
     "execution_count": 41,
     "metadata": {},
     "output_type": "execute_result"
    }
   ],
   "source": [
    "#Create lists for t-test\n",
    "high_adhd_participants = high_adhd.groupby(['participant','block_settings'])['trial_score'].mean()\n",
    "high_adhd = high_adhd.groupby(['participant','block_settings'])['trial_score'].mean().tolist()\n",
    "short = high_adhd[::2]\n",
    "long = high_adhd[1::2]\n",
    "\n",
    "#Perform paired t-test to determine if there is a significant difference between mean trial score for high trait-ADHD participants by duration\n",
    "ttest_rel(short, long)\n",
    "\n",
    "#Again, not significant (p = 0.102)."
   ]
  },
  {
   "attachments": {},
   "cell_type": "markdown",
   "metadata": {},
   "source": [
    "In the original submitted data analysis plan, I had proposed computing a multiple regression equation to analyze the predictive power of the interaction between ADHD-level and trial duration on average percentage correct. However, the above analyses have indicated that, on their own, neither ADHD-level nor trial duration are closely associated with average percentage correct. Furthermore, there is a lot of variability in participants' performance. I fear that noise from individual variabilty would disguise any interaction between ADHD-level and trial duration in a multiple regression equation. \n",
    "\n",
    "Instead, I have computed a linear regression equation to analyze the predictive power of ADHD-level on the the difference in average percentage correct by duration. I expected that, as participants' ADHD level increases, the difference between their average score on long duration trials and short duration trials would also increase (with long durations typically resulting in better performance). \n",
    "\n",
    "The linear regression analysis was performed in R with the results documented below. "
   ]
  },
  {
   "attachments": {},
   "cell_type": "markdown",
   "metadata": {},
   "source": [
    "![Alt text](Captura%20de%20pantalla%202023-05-27%20a%20la(s)%208.47.08%20p.m..png)"
   ]
  },
  {
   "attachments": {},
   "cell_type": "markdown",
   "metadata": {},
   "source": [
    "![Alt text](Captura%20de%20pantalla%202023-05-27%20a%20la(s)%208.54.55%20p.m..png)"
   ]
  },
  {
   "attachments": {},
   "cell_type": "markdown",
   "metadata": {},
   "source": [
    "The F-statistic p-value approaches significance, so it may be that ASRS score has some modulatory effect on the impact of duration on performance."
   ]
  },
  {
   "attachments": {},
   "cell_type": "markdown",
   "metadata": {},
   "source": [
    "To do next: \n",
    "\n",
    "See if results differ when trials are scored as all-or-nothing \n",
    "AND with Levensteins \n",
    "\n",
    "AND \n",
    "\n",
    "Perform analysis for hyperactive vs. innattentive "
   ]
  }
 ],
 "metadata": {
  "kernelspec": {
   "display_name": "base",
   "language": "python",
   "name": "python3"
  },
  "language_info": {
   "codemirror_mode": {
    "name": "ipython",
    "version": 3
   },
   "file_extension": ".py",
   "mimetype": "text/x-python",
   "name": "python",
   "nbconvert_exporter": "python",
   "pygments_lexer": "ipython3",
   "version": "3.9.12"
  },
  "orig_nbformat": 4
 },
 "nbformat": 4,
 "nbformat_minor": 2
}
